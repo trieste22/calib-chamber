{
 "cells": [
  {
   "cell_type": "markdown",
   "metadata": {},
   "source": [
    "# README - Calibration Chamber\n",
    "* This python Notebook is a first-draft script to use with the calibration chamber to test and compare AudioMoths\n",
    "* The basic idea is that to test how well a recorder is functioning (for example, after being a bit beat up in the field by water or other factors), we want to be able to play the same audio clip for each AudioMoth and examine the recorded files. Comparing them to some standard will allow us to decide if the Moth is recording well enough to go back into the field.\n",
    "* Ultimately, this should be a semi-automated process: Audiomoths are placed into chamber and test sound is played after relevant information about them is recorded (tasks that must be done by a lab member), but the software should handle the data analysis and output. Eventually, it would be nice to have it save the calibration data somewhere like a big Google Drive document with all of the recorders.\n",
    "\n",
    "## Instructions for use:\n",
    "* Configure 1-12 AudioMoths (AMs) on Medium Gain, 32kHz Sample Rate, 0s Sleep Duration, and 3600s (1 hour) Recording Duration using the AudioMoth software.\n",
    "* Record SD card-AM relationships and any notes in the file *moths_toTest.csv*\n",
    "* Set all AMs to Default mode and place in chamber with microphones facing up. Close flap and play test recording from MP3 player starting at a known time (write it down!)\n",
    "  * What I used to note the universal time: https://time.is/UTC\n",
    "* After recording is finishied (~40s), remove AMs and set all to USB/OFF mode, then remove SD cards and mount cards to your Mac.\n",
    "* Update the *csv_name* and *playback_start* variables at the bottom of this script, and then run the final panel of the Notebook (shift-enter) to read SD cards, grab relevant parts of the audio info, and run and print analytics. Data is also saved to *csv_name* for posterity, so make sure to name in a descriptive way if that's data we care to keep.\n",
    "  * (You might have to run the above panels first to load the functions on a new computer that hasn't run the script before)\n",
    "  \n",
    "## Tasks to work on moving forward (in no particular order):\n",
    "* Improve this script or the README for readability/usability, if necessary\n",
    "* Improve the physical chamber, if necessary\n",
    "* Examine recordings from \"good\" and \"bad\" Moths, and determine what kinds of analyses we can automate to output a reliable guess about the quality of the Moth\n",
    "  * ie median volume, the quietest sounds they can pick up, if there's any pops/echoes/ringing/screeching sounds in certain frequencies -- how do we tell how a/functional a Moth is?\n",
    "  * trial and error, looking at spectrograms, editing the test audio clip (changing the volume output, actual sounds that make it up, the spacing of sounds,..?), and examining different subsets of recordings will probably be necessary to nail this down\n",
    "* Run many new AudioMoths through the chamber to get a baseline of what a \"good\" Moth's recordings are like, and save the output data in a way that is easy to compare to unknown-quality Moths that will be tested in the future when they return from the field.\n",
    "  * Note that it is easy to read and write a lot of information to CSV files using Python. It might make sense for this task to just save as much information as possible so we have a larger set to compare future files to.\n",
    "  * This task could be done before/after/or in conjuction with the last task to meet both goals.\n"
   ]
  },
  {
   "cell_type": "code",
   "execution_count": 35,
   "metadata": {},
   "outputs": [],
   "source": [
    "import pandas as pd\n",
    "from tinytag import TinyTag\n",
    "import os\n",
    "import re\n",
    "import scipy.io.wavfile as wave\n",
    "import math\n",
    "from statistics import mean, median\n"
   ]
  },
  {
   "cell_type": "markdown",
   "metadata": {},
   "source": [
    "### UTC_timeDiff(a,b)\n",
    "* Takes two colon-separated UTC time stamp strings, and returns the difference (a - b) in seconds\n",
    "* (ie a = '17:46:53', b = '17:45:11' ->> 102 seconds)"
   ]
  },
  {
   "cell_type": "code",
   "execution_count": 36,
   "metadata": {},
   "outputs": [],
   "source": [
    "def UTC_timeDiff(a, b): \n",
    "    a_hour = a[0:2]\n",
    "    a_minute = a[3:5]\n",
    "    a_second = a[6:]\n",
    "    \n",
    "    a_parts = list(map(int, a.split(':')))\n",
    "    b_parts = list(map(int, b.split(':')))\n",
    "\n",
    "#     for i in range(len(a_parts)):\n",
    "#         print(int(a_parts[i]))\n",
    "#         print(int(b_parts[i]))\n",
    "        \n",
    "    s_diff = a_parts[2] - b_parts[2]\n",
    "    m_diff = a_parts[1] - b_parts[1]\n",
    "    h_diff = a_parts[0] - b_parts[0]\n",
    "\n",
    "    difference_in_seconds = 60*60*h_diff + 60*m_diff + s_diff\n",
    "    return(difference_in_seconds)"
   ]
  },
  {
   "cell_type": "markdown",
   "metadata": {},
   "source": [
    "### splitCalls(file, t0)\n",
    "* Takes a AM-recorded file and an offset time t0 (how long after the recording begins that the test clip begins),\n",
    "* Returns three matrices of the sound data containing information about each of the three different bird types\n"
   ]
  },
  {
   "cell_type": "code",
   "execution_count": 37,
   "metadata": {},
   "outputs": [],
   "source": [
    "def splitCalls(file, t0):\n",
    "    sample_rate, data = wave.read(file)\n",
    "    \n",
    "# TODO: switch to DataFrame implementation for efficiency, at some point    \n",
    "#     birds = pd.DataFrame([['chickadee', 187, 7784], ['wren', 8740, 20879],['pileated', 22053, 30390]],\n",
    "#                          columns=['Bird', 'start', 'end']) #original test clip timings\n",
    "    \n",
    "    birds = {\"chickadee\": [0, 8518], # bounding times (in ms) in original file\n",
    "             \"wren\": [9960, 22484],\n",
    "             \"pileated\": [24597, 33074]}\n",
    "\n",
    "    for bird in birds.values():\n",
    "        for i in range(2):\n",
    "            bird[i] = (bird[i]+t0)\n",
    "\n",
    "    BCCH = data[math.floor(birds[\"chickadee\"][0]): math.ceil(birds[\"chickadee\"][1]+1)]\n",
    "    CAWR = data[math.floor(birds[\"wren\"][0]): math.ceil(birds[\"wren\"][1]+1)]\n",
    "    PIWO = data[math.floor(birds[\"pileated\"][0]): math.ceil(birds[\"pileated\"][1] +1)]\n",
    "    \n",
    "    return BCCH, CAWR, PIWO #BCCH = black-capped chickadee, CAWR = carolina wren, PIWO = pileated woodpecker"
   ]
  },
  {
   "cell_type": "markdown",
   "metadata": {},
   "source": [
    "# getSpecs(file,t0):\n",
    "* Split a recorded file down to just the relevant information and run some analytics on it.\n",
    "* So far I just take the mean and max (but only use the mean) of each birdcall segment.\n",
    "* We will probably want to come up with some new metrics to compare recording quality moving forward."
   ]
  },
  {
   "cell_type": "code",
   "execution_count": 38,
   "metadata": {},
   "outputs": [],
   "source": [
    "def getSpecs(file, t0):\n",
    "    BCCH, CAWR, PIWO = splitCalls(file, t0)\n",
    "    \n",
    "#     print(BCCH, CAWR, PIWO)\n",
    "    BCCH_max = round(max(BCCH),3)\n",
    "    BCCH_mean = round(mean(map(abs,BCCH)),3)\n",
    "    CAWR_max = round(max(CAWR),3)\n",
    "    CAWR_mean = round(mean(map(abs,CAWR)),3)\n",
    "    PIWO_max = round(max(PIWO),3)\n",
    "    PIWO_mean = round(mean(map(abs,PIWO)),3)\n",
    "    \n",
    "    return [BCCH_max, BCCH_mean, CAWR_max, CAWR_mean, PIWO_max, PIWO_mean] "
   ]
  },
  {
   "cell_type": "markdown",
   "metadata": {},
   "source": [
    "### calibrate(sd_prefix, sd_mount, playback_start, csv_name)\n",
    "* loads .wav file recordings from SD cards, calculates delay based on user-input playback time, and builds a DataFrame with relevant information."
   ]
  },
  {
   "cell_type": "code",
   "execution_count": 61,
   "metadata": {},
   "outputs": [],
   "source": [
    "def calibrate(sd_prefix, sd_mount, playback_start, csv_name):\n",
    "    moth_info = pd.read_csv('moths_toTest.csv', dtype=str)\n",
    "    moth_info['SD'] = 'MSD-' + moth_info['SD'] #make df values match SD naming scheme\n",
    "    print(\"Moth_info: \")\n",
    "    print(moth_info)\n",
    "\n",
    "    calib_output = pd.DataFrame(columns=['AM', 'SD', 'BCCH_mean', 'CAWR_mean', 'PIWO_mean', 'notes'])\n",
    "\n",
    "    disks = os.listdir(path=sd_mount)\n",
    "    print(disks)\n",
    "    count = 0\n",
    "\n",
    "    for disk in disks:\n",
    "        if bool(re.search(sd_prefix, disk)):  # iterate thru SD cards\n",
    "            print(f'\\n{disk}')\n",
    "\n",
    "            files = os.listdir(path=f'{sd_mount}/{disk}')\n",
    "            for file in files:\n",
    "                if not file.startswith('.'): #ignore hidden files\n",
    "                    f = TinyTag.get(f'{sd_mount}/{disk}/{file}')\n",
    "                    recording_start = f.comment[12:20]\n",
    "                    delay = UTC_timeDiff(playback_start, recording_start)\n",
    "                    print(f'{playback_start} - {recording_start} = {delay}\\n')                \n",
    "                    BCCH_max, BCCH_mean, CAWR_max, CAWR_mean, PIWO_max, PIWO_mean = getSpecs(f'{sd_mount}/{disk}/{file}', 1000*delay)\n",
    "                    print(moth_info[moth_info['SD'] == disk])\n",
    "                    thismoth = moth_info[moth_info['SD'] == disk]\n",
    "                    print(thismoth)\n",
    "                    am = thismoth['AM'].iloc[0]\n",
    "                    notes = thismoth['notes'].iloc[0]\n",
    "\n",
    "                    calib_output.loc[count] = [f'M10-{am}', disk, BCCH_mean, CAWR_mean, PIWO_mean, notes]\n",
    "        count = count + 1\n",
    "    calib_output.to_csv(csv_name)\n",
    "    print(calib_output)\n",
    "                "
   ]
  },
  {
   "cell_type": "markdown",
   "metadata": {},
   "source": [
    "### Running the script\n",
    "* Update *csv_name* and *playback_start* variables, then run this panel to run the calibration and print out results"
   ]
  },
  {
   "cell_type": "code",
   "execution_count": 63,
   "metadata": {},
   "outputs": [
    {
     "name": "stdout",
     "output_type": "stream",
     "text": [
      "Moth_info: \n",
      "     AM        SD      notes\n",
      "0  0390  MSD-0369  To Deploy\n",
      "['lacie', 'seagate2', 'seagate3', 'Macintosh HD', 'MSD-0369', 'seagate1']\n",
      "\n",
      "MSD-0369\n",
      "18:17:30 - 18:17:01 = 29\n",
      "\n",
      "     AM        SD      notes\n",
      "0  0390  MSD-0369  To Deploy\n",
      "     AM        SD      notes\n",
      "0  0390  MSD-0369  To Deploy\n",
      "         AM        SD BCCH_mean CAWR_mean PIWO_mean      notes\n",
      "4  M10-0390  MSD-0369      3374      2405      3353  To Deploy\n"
     ]
    }
   ],
   "source": [
    "sd_prefix = 'MSD'\n",
    "sd_mount = '/Volumes'\n",
    "\n",
    "csv_name = \"05-07-19-calib_output.csv\"\n",
    "playback_start = '18:17:30'#'18:17:15'      \n",
    "\n",
    "calibrate(sd_prefix, sd_mount, playback_start, csv_name)\n"
   ]
  },
  {
   "cell_type": "code",
   "execution_count": null,
   "metadata": {},
   "outputs": [],
   "source": []
  },
  {
   "cell_type": "code",
   "execution_count": null,
   "metadata": {},
   "outputs": [],
   "source": []
  },
  {
   "cell_type": "code",
   "execution_count": null,
   "metadata": {},
   "outputs": [],
   "source": []
  }
 ],
 "metadata": {
  "kernelspec": {
   "display_name": "Python 3",
   "language": "python",
   "name": "python3"
  },
  "language_info": {
   "codemirror_mode": {
    "name": "ipython",
    "version": 3
   },
   "file_extension": ".py",
   "mimetype": "text/x-python",
   "name": "python",
   "nbconvert_exporter": "python",
   "pygments_lexer": "ipython3",
   "version": "3.6.5"
  }
 },
 "nbformat": 4,
 "nbformat_minor": 2
}
